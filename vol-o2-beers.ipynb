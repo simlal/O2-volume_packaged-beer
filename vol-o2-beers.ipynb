{
 "cells": [
  {
   "cell_type": "code",
   "execution_count": 1,
   "id": "2149ae41",
   "metadata": {
    "_cell_guid": "b1076dfc-b9ad-4769-8c92-a6c4dae69d19",
    "_uuid": "8f2839f25d086af736a60e9eeb907d3b93b6e0e5",
    "execution": {
     "iopub.execute_input": "2022-06-15T00:31:57.879818Z",
     "iopub.status.busy": "2022-06-15T00:31:57.879235Z",
     "iopub.status.idle": "2022-06-15T00:31:58.992098Z",
     "shell.execute_reply": "2022-06-15T00:31:58.990953Z"
    },
    "papermill": {
     "duration": 1.124429,
     "end_time": "2022-06-15T00:31:58.994812",
     "exception": false,
     "start_time": "2022-06-15T00:31:57.870383",
     "status": "completed"
    },
    "tags": []
   },
   "outputs": [
    {
     "name": "stdout",
     "output_type": "stream",
     "text": [
      "/kaggle/input/vol-o2-3beers-1668-1671-1672/o2-vol-3beers-1668-1670-1671.csv\n",
      "/kaggle/input/vol-o2-3beers-1668-1671-1672/o2-vol-3beers-1668-1670-1671_full.csv\n"
     ]
    }
   ],
   "source": [
    "# This Python 3 environment comes with many helpful analytics libraries installed\n",
    "# It is defined by the kaggle/python Docker image: https://github.com/kaggle/docker-python\n",
    "# For example, here's several helpful packages to load\n",
    "\n",
    "import numpy as np # linear algebra\n",
    "import pandas as pd # data processing, CSV file I/O (e.g. pd.read_csv)\n",
    "pd.options.mode.chained_assignment = None  # default='warn'\n",
    "import seaborn as sns\n",
    "from scipy import stats\n",
    "import matplotlib.pyplot as plt\n",
    "\n",
    "\n",
    "\n",
    "# Input data files are available in the read-only \"../input/\" directory\n",
    "# For example, running this (by clicking run or pressing Shift+Enter) will list all files under the input directory\n",
    "\n",
    "import os\n",
    "for dirname, _, filenames in os.walk('/kaggle/input'):\n",
    "    for filename in filenames:\n",
    "        print(os.path.join(dirname, filename))\n",
    "\n",
    "# You can write up to 20GB to the current directory (/kaggle/working/) that gets preserved as output when you create a version using \"Save & Run All\" \n",
    "# You can also write temporary files to /kaggle/temp/, but they won't be saved outside of the current session"
   ]
  },
  {
   "cell_type": "markdown",
   "id": "5b3a1d7c",
   "metadata": {
    "papermill": {
     "duration": 0.004945,
     "end_time": "2022-06-15T00:31:59.006414",
     "exception": false,
     "start_time": "2022-06-15T00:31:59.001469",
     "status": "completed"
    },
    "tags": []
   },
   "source": [
    "# Exploration of relationship between dissolved oxygen (DO or O2) readings and packaged beer volume using test dataset of 3 different lots of beers from Siboire craft brewery. \n",
    "---------\n",
    "## The beers :\n",
    "\n",
    "- [Notre Folie](https://siboire.ca/fr/boutique/bieres/3968024-notre-folie-100-qc/)\n",
    "- [IPA Test #96](https://siboire.ca/fr/boutique/bieres/4847087-ipa-test-96-citra-spectrum-citra-lupomax-citra/)\n",
    "- [Inspiration](https://siboire.ca/fr/boutique/bieres/213673-inspiration/)\n",
    "\n",
    "## The measurements :\n",
    "1. Weight of packaged beer : \n",
    "    Lab balance with 0.01 g readability\n",
    "2. 3-minutes shaken CO2 and O2 readings of packaged using CBoxQC (Anton Paar; [CboxQC](https://www.anton-paar.com/us-en/products/details/cboxqc/)) and c-DGM (Haffmans; [c-DGM](https://foodandbeverage.pentair.com/en/products/haffmans-portable-optical-co2-o2-tpo-meter-c-dgm))\n",
    "\n",
    "---\n",
    "\n",
    "## Useful data and formulas :\n",
    "- Empty can weight (hard print) = 15.8 g\n",
    "- density p = mass (g) / volume (mL)\n",
    "- Plato to SG conversion with ASBC's online conversion tools : \n",
    "[Extract to Specific Gravity](https://www.asbcnet.org/Methods/Tools/extras/Documents/Extract_to_Specific_Gravity.pdf)\n",
    "- Water density at 20C from Handbook of Chemistry : [H20_20C_g/mL](https://collett.atmos.colostate.edu/classes/AT560/2007/water-density.pdf)\n",
    "\n",
    "--- \n",
    "\n",
    "## Question\n",
    "<code style=\"background:yellow;color:black\">**Is there relationship between dissolved O2 levels and volume of beer in final package?**</code>\n",
    "***"
   ]
  },
  {
   "cell_type": "markdown",
   "id": "3e7a5f6d",
   "metadata": {
    "papermill": {
     "duration": 0.004637,
     "end_time": "2022-06-15T00:31:59.015995",
     "exception": false,
     "start_time": "2022-06-15T00:31:59.011358",
     "status": "completed"
    },
    "tags": []
   },
   "source": [
    "# Import raw data and cleanup\n",
    "***\n",
    "Import data as df using the Pandas lib\n"
   ]
  },
  {
   "cell_type": "code",
   "execution_count": 2,
   "id": "bb5577bc",
   "metadata": {
    "execution": {
     "iopub.execute_input": "2022-06-15T00:31:59.027674Z",
     "iopub.status.busy": "2022-06-15T00:31:59.027102Z",
     "iopub.status.idle": "2022-06-15T00:31:59.061220Z",
     "shell.execute_reply": "2022-06-15T00:31:59.060593Z"
    },
    "papermill": {
     "duration": 0.041838,
     "end_time": "2022-06-15T00:31:59.062719",
     "exception": false,
     "start_time": "2022-06-15T00:31:59.020881",
     "status": "completed"
    },
    "tags": []
   },
   "outputs": [
    {
     "data": {
      "text/html": [
       "<div>\n",
       "<style scoped>\n",
       "    .dataframe tbody tr th:only-of-type {\n",
       "        vertical-align: middle;\n",
       "    }\n",
       "\n",
       "    .dataframe tbody tr th {\n",
       "        vertical-align: top;\n",
       "    }\n",
       "\n",
       "    .dataframe thead th {\n",
       "        text-align: right;\n",
       "    }\n",
       "</style>\n",
       "<table border=\"1\" class=\"dataframe\">\n",
       "  <thead>\n",
       "    <tr style=\"text-align: right;\">\n",
       "      <th></th>\n",
       "      <th>Beer</th>\n",
       "      <th>Lot</th>\n",
       "      <th>Density (Plato)</th>\n",
       "      <th>weight (g)</th>\n",
       "      <th>O2 (ppb)</th>\n",
       "      <th>CO2 (vol/vol)</th>\n",
       "    </tr>\n",
       "  </thead>\n",
       "  <tbody>\n",
       "    <tr>\n",
       "      <th>0</th>\n",
       "      <td>NF</td>\n",
       "      <td>1670</td>\n",
       "      <td>2.48</td>\n",
       "      <td>498.5</td>\n",
       "      <td>347.0</td>\n",
       "      <td>2.62</td>\n",
       "    </tr>\n",
       "    <tr>\n",
       "      <th>1</th>\n",
       "      <td>NF</td>\n",
       "      <td>1670</td>\n",
       "      <td>2.48</td>\n",
       "      <td>495.7</td>\n",
       "      <td>231.0</td>\n",
       "      <td>2.60</td>\n",
       "    </tr>\n",
       "    <tr>\n",
       "      <th>2</th>\n",
       "      <td>NF</td>\n",
       "      <td>1670</td>\n",
       "      <td>2.48</td>\n",
       "      <td>485.9</td>\n",
       "      <td>274.0</td>\n",
       "      <td>2.52</td>\n",
       "    </tr>\n",
       "    <tr>\n",
       "      <th>3</th>\n",
       "      <td>NF</td>\n",
       "      <td>1670</td>\n",
       "      <td>2.48</td>\n",
       "      <td>468.5</td>\n",
       "      <td>409.0</td>\n",
       "      <td>2.52</td>\n",
       "    </tr>\n",
       "    <tr>\n",
       "      <th>4</th>\n",
       "      <td>NF</td>\n",
       "      <td>1670</td>\n",
       "      <td>2.48</td>\n",
       "      <td>NaN</td>\n",
       "      <td>103.0</td>\n",
       "      <td>2.63</td>\n",
       "    </tr>\n",
       "    <tr>\n",
       "      <th>5</th>\n",
       "      <td>NF</td>\n",
       "      <td>1670</td>\n",
       "      <td>2.48</td>\n",
       "      <td>496.7</td>\n",
       "      <td>241.0</td>\n",
       "      <td>2.60</td>\n",
       "    </tr>\n",
       "    <tr>\n",
       "      <th>6</th>\n",
       "      <td>NF</td>\n",
       "      <td>1670</td>\n",
       "      <td>2.48</td>\n",
       "      <td>498.0</td>\n",
       "      <td>62.7</td>\n",
       "      <td>2.57</td>\n",
       "    </tr>\n",
       "    <tr>\n",
       "      <th>7</th>\n",
       "      <td>NF</td>\n",
       "      <td>1670</td>\n",
       "      <td>2.48</td>\n",
       "      <td>496.8</td>\n",
       "      <td>219.0</td>\n",
       "      <td>2.58</td>\n",
       "    </tr>\n",
       "    <tr>\n",
       "      <th>8</th>\n",
       "      <td>IPAT96</td>\n",
       "      <td>1668</td>\n",
       "      <td>3.40</td>\n",
       "      <td>NaN</td>\n",
       "      <td>91.0</td>\n",
       "      <td>2.63</td>\n",
       "    </tr>\n",
       "    <tr>\n",
       "      <th>9</th>\n",
       "      <td>IPAT96</td>\n",
       "      <td>1668</td>\n",
       "      <td>3.40</td>\n",
       "      <td>NaN</td>\n",
       "      <td>99.0</td>\n",
       "      <td>2.63</td>\n",
       "    </tr>\n",
       "  </tbody>\n",
       "</table>\n",
       "</div>"
      ],
      "text/plain": [
       "     Beer   Lot  Density (Plato)  weight (g)  O2 (ppb)  CO2 (vol/vol)\n",
       "0      NF  1670             2.48       498.5     347.0           2.62\n",
       "1      NF  1670             2.48       495.7     231.0           2.60\n",
       "2      NF  1670             2.48       485.9     274.0           2.52\n",
       "3      NF  1670             2.48       468.5     409.0           2.52\n",
       "4      NF  1670             2.48         NaN     103.0           2.63\n",
       "5      NF  1670             2.48       496.7     241.0           2.60\n",
       "6      NF  1670             2.48       498.0      62.7           2.57\n",
       "7      NF  1670             2.48       496.8     219.0           2.58\n",
       "8  IPAT96  1668             3.40         NaN      91.0           2.63\n",
       "9  IPAT96  1668             3.40         NaN      99.0           2.63"
      ]
     },
     "execution_count": 2,
     "metadata": {},
     "output_type": "execute_result"
    }
   ],
   "source": [
    "# Import raw data + check sample pop and NAs\n",
    "rawDf = pd.read_csv(\"../input/vol-o2-3beers-1668-1671-1672/o2-vol-3beers-1668-1670-1671_full.csv\", sep=\";\", decimal=\",\")\n",
    "rawDf.head(10)\n"
   ]
  },
  {
   "cell_type": "code",
   "execution_count": 3,
   "id": "a6b91efe",
   "metadata": {
    "execution": {
     "iopub.execute_input": "2022-06-15T00:31:59.074266Z",
     "iopub.status.busy": "2022-06-15T00:31:59.073985Z",
     "iopub.status.idle": "2022-06-15T00:31:59.081930Z",
     "shell.execute_reply": "2022-06-15T00:31:59.081333Z"
    },
    "papermill": {
     "duration": 0.015344,
     "end_time": "2022-06-15T00:31:59.083339",
     "exception": false,
     "start_time": "2022-06-15T00:31:59.067995",
     "status": "completed"
    },
    "tags": []
   },
   "outputs": [
    {
     "data": {
      "text/plain": [
       "Beer               34\n",
       "Lot                34\n",
       "Density (Plato)    34\n",
       "weight (g)         28\n",
       "O2 (ppb)           33\n",
       "CO2 (vol/vol)      33\n",
       "dtype: int64"
      ]
     },
     "execution_count": 3,
     "metadata": {},
     "output_type": "execute_result"
    }
   ],
   "source": [
    "# Looking for NAs\n",
    "rawDf.count()\n",
    "# Dropping NAs we have n=28 samples left"
   ]
  },
  {
   "cell_type": "code",
   "execution_count": 4,
   "id": "378d02e3",
   "metadata": {
    "execution": {
     "iopub.execute_input": "2022-06-15T00:31:59.094803Z",
     "iopub.status.busy": "2022-06-15T00:31:59.094456Z",
     "iopub.status.idle": "2022-06-15T00:31:59.105161Z",
     "shell.execute_reply": "2022-06-15T00:31:59.104586Z"
    },
    "papermill": {
     "duration": 0.018215,
     "end_time": "2022-06-15T00:31:59.106628",
     "exception": false,
     "start_time": "2022-06-15T00:31:59.088413",
     "status": "completed"
    },
    "tags": []
   },
   "outputs": [],
   "source": [
    "# change weight column name + remove NAs\n",
    "rawDf = rawDf.rename(columns={\"weight (g)\": \"full weight (g)\"})\n",
    "df = rawDf.dropna()\n"
   ]
  },
  {
   "cell_type": "code",
   "execution_count": 5,
   "id": "aa97fa18",
   "metadata": {
    "execution": {
     "iopub.execute_input": "2022-06-15T00:31:59.118082Z",
     "iopub.status.busy": "2022-06-15T00:31:59.117697Z",
     "iopub.status.idle": "2022-06-15T00:31:59.123715Z",
     "shell.execute_reply": "2022-06-15T00:31:59.122931Z"
    },
    "papermill": {
     "duration": 0.013504,
     "end_time": "2022-06-15T00:31:59.125308",
     "exception": false,
     "start_time": "2022-06-15T00:31:59.111804",
     "status": "completed"
    },
    "tags": []
   },
   "outputs": [
    {
     "data": {
      "text/plain": [
       "Beer                object\n",
       "Lot                  int64\n",
       "Density (Plato)    float64\n",
       "full weight (g)    float64\n",
       "O2 (ppb)           float64\n",
       "CO2 (vol/vol)      float64\n",
       "dtype: object"
      ]
     },
     "execution_count": 5,
     "metadata": {},
     "output_type": "execute_result"
    }
   ],
   "source": [
    "# Check if dtypes OK\n",
    "df.dtypes\n"
   ]
  },
  {
   "cell_type": "markdown",
   "id": "e8d23a24",
   "metadata": {
    "papermill": {
     "duration": 0.005166,
     "end_time": "2022-06-15T00:31:59.135879",
     "exception": false,
     "start_time": "2022-06-15T00:31:59.130713",
     "status": "completed"
    },
    "tags": []
   },
   "source": [
    "# Calculate the volume of beer in package\n",
    "***\n",
    "## Strategy :\n",
    "1. Determine weight of liquid beer in can\n",
    "2. Calculate specific gravity (SG)\n",
    "3. Calculate the volume of beer in can (mL)\n"
   ]
  },
  {
   "cell_type": "code",
   "execution_count": 6,
   "id": "580e663b",
   "metadata": {
    "execution": {
     "iopub.execute_input": "2022-06-15T00:31:59.148061Z",
     "iopub.status.busy": "2022-06-15T00:31:59.147712Z",
     "iopub.status.idle": "2022-06-15T00:31:59.170828Z",
     "shell.execute_reply": "2022-06-15T00:31:59.169967Z"
    },
    "papermill": {
     "duration": 0.031251,
     "end_time": "2022-06-15T00:31:59.172467",
     "exception": false,
     "start_time": "2022-06-15T00:31:59.141216",
     "status": "completed"
    },
    "tags": []
   },
   "outputs": [
    {
     "data": {
      "text/html": [
       "<div>\n",
       "<style scoped>\n",
       "    .dataframe tbody tr th:only-of-type {\n",
       "        vertical-align: middle;\n",
       "    }\n",
       "\n",
       "    .dataframe tbody tr th {\n",
       "        vertical-align: top;\n",
       "    }\n",
       "\n",
       "    .dataframe thead th {\n",
       "        text-align: right;\n",
       "    }\n",
       "</style>\n",
       "<table border=\"1\" class=\"dataframe\">\n",
       "  <thead>\n",
       "    <tr style=\"text-align: right;\">\n",
       "      <th></th>\n",
       "      <th>Beer</th>\n",
       "      <th>Lot</th>\n",
       "      <th>Density (Plato)</th>\n",
       "      <th>full weight (g)</th>\n",
       "      <th>O2 (ppb)</th>\n",
       "      <th>CO2 (vol/vol)</th>\n",
       "      <th>liquid weight (g)</th>\n",
       "      <th>SG</th>\n",
       "      <th>beer volume (mL)</th>\n",
       "    </tr>\n",
       "  </thead>\n",
       "  <tbody>\n",
       "    <tr>\n",
       "      <th>0</th>\n",
       "      <td>NF</td>\n",
       "      <td>1670</td>\n",
       "      <td>2.48</td>\n",
       "      <td>498.5</td>\n",
       "      <td>347.0</td>\n",
       "      <td>2.62</td>\n",
       "      <td>482.7</td>\n",
       "      <td>1.009672</td>\n",
       "      <td>478.93493</td>\n",
       "    </tr>\n",
       "    <tr>\n",
       "      <th>1</th>\n",
       "      <td>NF</td>\n",
       "      <td>1670</td>\n",
       "      <td>2.48</td>\n",
       "      <td>495.7</td>\n",
       "      <td>231.0</td>\n",
       "      <td>2.60</td>\n",
       "      <td>479.9</td>\n",
       "      <td>1.009672</td>\n",
       "      <td>476.15677</td>\n",
       "    </tr>\n",
       "    <tr>\n",
       "      <th>2</th>\n",
       "      <td>NF</td>\n",
       "      <td>1670</td>\n",
       "      <td>2.48</td>\n",
       "      <td>485.9</td>\n",
       "      <td>274.0</td>\n",
       "      <td>2.52</td>\n",
       "      <td>470.1</td>\n",
       "      <td>1.009672</td>\n",
       "      <td>466.43321</td>\n",
       "    </tr>\n",
       "    <tr>\n",
       "      <th>3</th>\n",
       "      <td>NF</td>\n",
       "      <td>1670</td>\n",
       "      <td>2.48</td>\n",
       "      <td>468.5</td>\n",
       "      <td>409.0</td>\n",
       "      <td>2.52</td>\n",
       "      <td>452.7</td>\n",
       "      <td>1.009672</td>\n",
       "      <td>449.16893</td>\n",
       "    </tr>\n",
       "    <tr>\n",
       "      <th>5</th>\n",
       "      <td>NF</td>\n",
       "      <td>1670</td>\n",
       "      <td>2.48</td>\n",
       "      <td>496.7</td>\n",
       "      <td>241.0</td>\n",
       "      <td>2.60</td>\n",
       "      <td>480.9</td>\n",
       "      <td>1.009672</td>\n",
       "      <td>477.14897</td>\n",
       "    </tr>\n",
       "  </tbody>\n",
       "</table>\n",
       "</div>"
      ],
      "text/plain": [
       "  Beer   Lot  Density (Plato)  full weight (g)  O2 (ppb)  CO2 (vol/vol)  \\\n",
       "0   NF  1670             2.48            498.5     347.0           2.62   \n",
       "1   NF  1670             2.48            495.7     231.0           2.60   \n",
       "2   NF  1670             2.48            485.9     274.0           2.52   \n",
       "3   NF  1670             2.48            468.5     409.0           2.52   \n",
       "5   NF  1670             2.48            496.7     241.0           2.60   \n",
       "\n",
       "   liquid weight (g)        SG  beer volume (mL)  \n",
       "0              482.7  1.009672         478.93493  \n",
       "1              479.9  1.009672         476.15677  \n",
       "2              470.1  1.009672         466.43321  \n",
       "3              452.7  1.009672         449.16893  \n",
       "5              480.9  1.009672         477.14897  "
      ]
     },
     "execution_count": 6,
     "metadata": {},
     "output_type": "execute_result"
    }
   ],
   "source": [
    "# Determine weight of beer liquid only\n",
    "# Regular hard printed can body + lid weight = 15.8 g\n",
    "# NO USER INPUT emptyCan = float(input(\"Enter weight of empty can + lid :\"))\n",
    "emptyCan = 15.8\n",
    "df[\"liquid weight (g)\"] = df[\"full weight (g)\"] - emptyCan\n",
    "\n",
    "# Convert Plato density to specific gravity (SG)\n",
    "df[\"SG\"] = df[\"Density (Plato)\"] / (258.6-((df[\"Density (Plato)\"]/258.2)*227.1))+1\n",
    "\n",
    "# Calculate beer liquid volume in package (mL)\n",
    "watDens20C = 0.998207\n",
    "df[\"beer volume (mL)\"] = df[\"liquid weight (g)\"] / (df[\"SG\"]*watDens20C)\n",
    "df.head()"
   ]
  },
  {
   "cell_type": "markdown",
   "id": "70c21f27",
   "metadata": {
    "papermill": {
     "duration": 0.00525,
     "end_time": "2022-06-15T00:31:59.183500",
     "exception": false,
     "start_time": "2022-06-15T00:31:59.178250",
     "status": "completed"
    },
    "tags": []
   },
   "source": [
    "# Exploratory data analysis\n",
    "***\n",
    "## Data visualization for further cleaning\n",
    "- Check distributions for beer volume, CO2 and O2\n",
    "- Remove outliers"
   ]
  },
  {
   "cell_type": "code",
   "execution_count": 7,
   "id": "77a0df4d",
   "metadata": {
    "execution": {
     "iopub.execute_input": "2022-06-15T00:31:59.196656Z",
     "iopub.status.busy": "2022-06-15T00:31:59.196248Z",
     "iopub.status.idle": "2022-06-15T00:31:59.397849Z",
     "shell.execute_reply": "2022-06-15T00:31:59.397175Z"
    },
    "papermill": {
     "duration": 0.209921,
     "end_time": "2022-06-15T00:31:59.399283",
     "exception": false,
     "start_time": "2022-06-15T00:31:59.189362",
     "status": "completed"
    },
    "tags": []
   },
   "outputs": [
    {
     "data": {
      "text/plain": [
       "<AxesSubplot:xlabel='beer volume (mL)', ylabel='Count'>"
      ]
     },
     "execution_count": 7,
     "metadata": {},
     "output_type": "execute_result"
    },
    {
     "data": {
      "image/png": "[encoded data removed]",
      "text/plain": [
       "<Figure size 432x288 with 1 Axes>"
      ]
     },
     "metadata": {
      "needs_background": "light"
     },
     "output_type": "display_data"
    }
   ],
   "source": [
    "# Beer volume histogram all beers\n",
    "sns.histplot(data=df, x=\"beer volume (mL)\", color=\"blue\", kde=True)\n",
    "\n"
   ]
  },
  {
   "cell_type": "code",
   "execution_count": 8,
   "id": "21e5f66d",
   "metadata": {
    "execution": {
     "iopub.execute_input": "2022-06-15T00:31:59.413042Z",
     "iopub.status.busy": "2022-06-15T00:31:59.411928Z",
     "iopub.status.idle": "2022-06-15T00:31:59.656700Z",
     "shell.execute_reply": "2022-06-15T00:31:59.655659Z"
    },
    "papermill": {
     "duration": 0.25305,
     "end_time": "2022-06-15T00:31:59.658366",
     "exception": false,
     "start_time": "2022-06-15T00:31:59.405316",
     "status": "completed"
    },
    "tags": []
   },
   "outputs": [
    {
     "data": {
      "text/plain": [
       "<AxesSubplot:xlabel='beer volume (mL)', ylabel='Count'>"
      ]
     },
     "execution_count": 8,
     "metadata": {},
     "output_type": "execute_result"
    },
    {
     "data": {
      "image/png": "[encoded data removed]",
      "text/plain": [
       "<Figure size 432x288 with 1 Axes>"
      ]
     },
     "metadata": {
      "needs_background": "light"
     },
     "output_type": "display_data"
    }
   ],
   "source": [
    "# Remove outliers z-score > 3 for \"beer volume (mL)\"\n",
    "df = df[(np.abs(stats.zscore(df[\"beer volume (mL)\"])) < 3)]\n",
    "sns.histplot(data=df, x=\"beer volume (mL)\",hue=\"Beer\", shrink=0.9, multiple=\"stack\")"
   ]
  },
  {
   "cell_type": "code",
   "execution_count": 9,
   "id": "ad6d7f19",
   "metadata": {
    "execution": {
     "iopub.execute_input": "2022-06-15T00:31:59.672040Z",
     "iopub.status.busy": "2022-06-15T00:31:59.671721Z",
     "iopub.status.idle": "2022-06-15T00:31:59.829969Z",
     "shell.execute_reply": "2022-06-15T00:31:59.829242Z"
    },
    "papermill": {
     "duration": 0.166749,
     "end_time": "2022-06-15T00:31:59.831471",
     "exception": false,
     "start_time": "2022-06-15T00:31:59.664722",
     "status": "completed"
    },
    "tags": []
   },
   "outputs": [
    {
     "data": {
      "text/plain": [
       "<AxesSubplot:xlabel='O2 (ppb)', ylabel='Count'>"
      ]
     },
     "execution_count": 9,
     "metadata": {},
     "output_type": "execute_result"
    },
    {
     "data": {
      "image/png": "[encoded data removed]",
      "text/plain": [
       "<Figure size 432x288 with 1 Axes>"
      ]
     },
     "metadata": {
      "needs_background": "light"
     },
     "output_type": "display_data"
    }
   ],
   "source": [
    "# O2 histogram\n",
    "sns.histplot(data=df, x=\"O2 (ppb)\", kde=True, color=\"orange\")"
   ]
  },
  {
   "cell_type": "code",
   "execution_count": 10,
   "id": "c765b4a5",
   "metadata": {
    "execution": {
     "iopub.execute_input": "2022-06-15T00:31:59.845345Z",
     "iopub.status.busy": "2022-06-15T00:31:59.845033Z",
     "iopub.status.idle": "2022-06-15T00:32:00.068939Z",
     "shell.execute_reply": "2022-06-15T00:32:00.068373Z"
    },
    "papermill": {
     "duration": 0.232547,
     "end_time": "2022-06-15T00:32:00.070499",
     "exception": false,
     "start_time": "2022-06-15T00:31:59.837952",
     "status": "completed"
    },
    "tags": []
   },
   "outputs": [
    {
     "data": {
      "text/plain": [
       "<AxesSubplot:xlabel='O2 (ppb)', ylabel='Count'>"
      ]
     },
     "execution_count": 10,
     "metadata": {},
     "output_type": "execute_result"
    },
    {
     "data": {
      "image/png": "[encoded data removed]",
      "text/plain": [
       "<Figure size 432x288 with 1 Axes>"
      ]
     },
     "metadata": {
      "needs_background": "light"
     },
     "output_type": "display_data"
    }
   ],
   "source": [
    "# Remove outliers z-score > 3 for \"O2 (ppb)\" \n",
    "df = df[(np.abs(stats.zscore(df[\"O2 (ppb)\"])) < 3)]\n",
    "sns.histplot(data=df, x=\"O2 (ppb)\",hue=\"Beer\", shrink=0.9, multiple=\"stack\")"
   ]
  },
  {
   "cell_type": "code",
   "execution_count": 11,
   "id": "c515b63c",
   "metadata": {
    "execution": {
     "iopub.execute_input": "2022-06-15T00:32:00.085420Z",
     "iopub.status.busy": "2022-06-15T00:32:00.084707Z",
     "iopub.status.idle": "2022-06-15T00:32:00.241620Z",
     "shell.execute_reply": "2022-06-15T00:32:00.240998Z"
    },
    "papermill": {
     "duration": 0.165762,
     "end_time": "2022-06-15T00:32:00.243150",
     "exception": false,
     "start_time": "2022-06-15T00:32:00.077388",
     "status": "completed"
    },
    "tags": []
   },
   "outputs": [
    {
     "data": {
      "text/plain": [
       "<AxesSubplot:xlabel='CO2 (vol/vol)', ylabel='Count'>"
      ]
     },
     "execution_count": 11,
     "metadata": {},
     "output_type": "execute_result"
    },
    {
     "data": {
      "image/png": "[encoded data removed]",
      "text/plain": [
       "<Figure size 432x288 with 1 Axes>"
      ]
     },
     "metadata": {
      "needs_background": "light"
     },
     "output_type": "display_data"
    }
   ],
   "source": [
    "# CO2 histo\n",
    "sns.histplot(data=df, x=\"CO2 (vol/vol)\", kde=True, color=\"red\")"
   ]
  },
  {
   "cell_type": "markdown",
   "id": "f5f1019e",
   "metadata": {
    "papermill": {
     "duration": 0.006912,
     "end_time": "2022-06-15T00:32:00.258316",
     "exception": false,
     "start_time": "2022-06-15T00:32:00.251404",
     "status": "completed"
    },
    "tags": []
   },
   "source": [
    "## Evaluating the relationship between volume of beer in package and dissolved oxygen levels\n",
    "***\n",
    "Pearson correlation method"
   ]
  },
  {
   "cell_type": "code",
   "execution_count": 12,
   "id": "7c39f928",
   "metadata": {
    "execution": {
     "iopub.execute_input": "2022-06-15T00:32:00.274016Z",
     "iopub.status.busy": "2022-06-15T00:32:00.273499Z",
     "iopub.status.idle": "2022-06-15T00:32:00.489757Z",
     "shell.execute_reply": "2022-06-15T00:32:00.488953Z"
    },
    "papermill": {
     "duration": 0.226128,
     "end_time": "2022-06-15T00:32:00.491511",
     "exception": false,
     "start_time": "2022-06-15T00:32:00.265383",
     "status": "completed"
    },
    "tags": []
   },
   "outputs": [
    {
     "data": {
      "text/plain": [
       "<AxesSubplot:xlabel='beer volume (mL)', ylabel='O2 (ppb)'>"
      ]
     },
     "execution_count": 12,
     "metadata": {},
     "output_type": "execute_result"
    },
    {
     "data": {
      "image/png": "[encoded data removed]",
      "text/plain": [
       "<Figure size 432x288 with 1 Axes>"
      ]
     },
     "metadata": {
      "needs_background": "light"
     },
     "output_type": "display_data"
    }
   ],
   "source": [
    "# Scatterplot for volume vs. O2\n",
    "sns.scatterplot(data=df, x=\"beer volume (mL)\", y=\"O2 (ppb)\", hue=\"Beer\")\n"
   ]
  },
  {
   "cell_type": "code",
   "execution_count": 13,
   "id": "7d9f45b2",
   "metadata": {
    "execution": {
     "iopub.execute_input": "2022-06-15T00:32:00.507715Z",
     "iopub.status.busy": "2022-06-15T00:32:00.507318Z",
     "iopub.status.idle": "2022-06-15T00:32:00.727886Z",
     "shell.execute_reply": "2022-06-15T00:32:00.726854Z"
    },
    "papermill": {
     "duration": 0.230983,
     "end_time": "2022-06-15T00:32:00.730015",
     "exception": false,
     "start_time": "2022-06-15T00:32:00.499032",
     "status": "completed"
    },
    "tags": []
   },
   "outputs": [
    {
     "data": {
      "text/plain": [
       "<AxesSubplot:xlabel='beer volume (mL)', ylabel='O2 (ppb)'>"
      ]
     },
     "execution_count": 13,
     "metadata": {},
     "output_type": "execute_result"
    },
    {
     "data": {
      "image/png": "[encoded data removed]",
      "text/plain": [
       "<Figure size 432x288 with 1 Axes>"
      ]
     },
     "metadata": {
      "needs_background": "light"
     },
     "output_type": "display_data"
    }
   ],
   "source": [
    "# Drop outlier and replot scatterplot\n",
    "df = df.drop(index=2)\n",
    "sns.scatterplot(data=df, x=\"beer volume (mL)\", y=\"O2 (ppb)\", hue=\"Beer\")"
   ]
  },
  {
   "cell_type": "code",
   "execution_count": 14,
   "id": "aa270f96",
   "metadata": {
    "execution": {
     "iopub.execute_input": "2022-06-15T00:32:00.755238Z",
     "iopub.status.busy": "2022-06-15T00:32:00.754893Z",
     "iopub.status.idle": "2022-06-15T00:32:01.008725Z",
     "shell.execute_reply": "2022-06-15T00:32:01.007895Z"
    },
    "papermill": {
     "duration": 0.268438,
     "end_time": "2022-06-15T00:32:01.010474",
     "exception": false,
     "start_time": "2022-06-15T00:32:00.742036",
     "status": "completed"
    },
    "tags": []
   },
   "outputs": [
    {
     "data": {
      "text/plain": [
       "<AxesSubplot:xlabel='beer volume (mL)', ylabel='O2 (ppb)'>"
      ]
     },
     "execution_count": 14,
     "metadata": {},
     "output_type": "execute_result"
    },
    {
     "data": {
      "image/png": "[encoded data removed]",
      "text/plain": [
       "<Figure size 432x288 with 1 Axes>"
      ]
     },
     "metadata": {
      "needs_background": "light"
     },
     "output_type": "display_data"
    }
   ],
   "source": [
    "# Linear regression seems to indicate there is a slight tendency for inverse correlation\n",
    "sns.regplot(data=df, x=\"beer volume (mL)\", y=\"O2 (ppb)\")"
   ]
  },
  {
   "cell_type": "code",
   "execution_count": 15,
   "id": "71441749",
   "metadata": {
    "execution": {
     "iopub.execute_input": "2022-06-15T00:32:01.028210Z",
     "iopub.status.busy": "2022-06-15T00:32:01.027801Z",
     "iopub.status.idle": "2022-06-15T00:32:01.275195Z",
     "shell.execute_reply": "2022-06-15T00:32:01.274502Z"
    },
    "papermill": {
     "duration": 0.258783,
     "end_time": "2022-06-15T00:32:01.277624",
     "exception": false,
     "start_time": "2022-06-15T00:32:01.018841",
     "status": "completed"
    },
    "tags": []
   },
   "outputs": [
    {
     "data": {
      "text/plain": [
       "<AxesSubplot:>"
      ]
     },
     "execution_count": 15,
     "metadata": {},
     "output_type": "execute_result"
    },
    {
     "data": {
      "image/png": "[encoded data removed]",
      "text/plain": [
       "<Figure size 432x288 with 2 Axes>"
      ]
     },
     "metadata": {
      "needs_background": "light"
     },
     "output_type": "display_data"
    }
   ],
   "source": [
    "# Pearson correlation for all features\n",
    "\n",
    "correlations = df.corr(method=\"pearson\")\n",
    "cmap = sns.diverging_palette(220, 20, as_cmap=True)\n",
    "sns.heatmap(data=correlations)\n"
   ]
  },
  {
   "cell_type": "code",
   "execution_count": 16,
   "id": "88ef77ec",
   "metadata": {
    "execution": {
     "iopub.execute_input": "2022-06-15T00:32:01.306503Z",
     "iopub.status.busy": "2022-06-15T00:32:01.305982Z",
     "iopub.status.idle": "2022-06-15T00:32:01.474964Z",
     "shell.execute_reply": "2022-06-15T00:32:01.474349Z"
    },
    "papermill": {
     "duration": 0.18567,
     "end_time": "2022-06-15T00:32:01.476457",
     "exception": false,
     "start_time": "2022-06-15T00:32:01.290787",
     "status": "completed"
    },
    "tags": []
   },
   "outputs": [
    {
     "data": {
      "text/plain": [
       "<AxesSubplot:>"
      ]
     },
     "execution_count": 16,
     "metadata": {},
     "output_type": "execute_result"
    },
    {
     "data": {
      "image/png": "[encoded data removed]",
      "text/plain": [
       "<Figure size 432x288 with 2 Axes>"
      ]
     },
     "metadata": {
      "needs_background": "light"
     },
     "output_type": "display_data"
    }
   ],
   "source": [
    "# Filtering for features of interest\n",
    "\n",
    "corrInt = correlations[[\"O2 (ppb)\", \"CO2 (vol/vol)\",\"beer volume (mL)\"]]\n",
    "corrInt = corrInt.drop([\"Lot\", \"Density (Plato)\", \"full weight (g)\", \"liquid weight (g)\", \"SG\"])\n",
    "cmap = sns.diverging_palette(220, 20, as_cmap=True)\n",
    "sns.heatmap(data=corrInt, cmap=cmap, annot=True)"
   ]
  },
  {
   "cell_type": "code",
   "execution_count": 17,
   "id": "ad89c8d3",
   "metadata": {
    "execution": {
     "iopub.execute_input": "2022-06-15T00:32:01.495290Z",
     "iopub.status.busy": "2022-06-15T00:32:01.494815Z",
     "iopub.status.idle": "2022-06-15T00:32:01.499319Z",
     "shell.execute_reply": "2022-06-15T00:32:01.498431Z"
    },
    "papermill": {
     "duration": 0.015823,
     "end_time": "2022-06-15T00:32:01.501089",
     "exception": false,
     "start_time": "2022-06-15T00:32:01.485266",
     "status": "completed"
    },
    "tags": []
   },
   "outputs": [
    {
     "name": "stdout",
     "output_type": "stream",
     "text": [
      "r for O2 vs volume: -0.2581\n"
     ]
    }
   ],
   "source": [
    "# Print exact pearson correlation coefficient\n",
    "r = correlations.loc[\"O2 (ppb)\", \"beer volume (mL)\"]\n",
    "print(\"r for O2 vs volume:\", \"%.4f\" % r)"
   ]
  },
  {
   "cell_type": "markdown",
   "id": "14506422",
   "metadata": {
    "papermill": {
     "duration": 0.008619,
     "end_time": "2022-06-15T00:32:01.519011",
     "exception": false,
     "start_time": "2022-06-15T00:32:01.510392",
     "status": "completed"
    },
    "tags": []
   },
   "source": [
    "# Conclusion from Pearson correlation\n",
    "***\n",
    "\n",
    "beer volume (mL)|-0.26|\n",
    "---|---|\n",
    ".|**O2 (ppb)**|\n",
    "\n",
    "<span style=\"background-color: #FFFF00\">Not a very strong negative correlation between dissolved oxygen levels and the volume of beer in package. **We cannot use the amount of volume in package as \"predictor\" (with mega quotes) for dissolved oxygen levels**. We need to look at other indicators such as foam amount and thickness!</span>\n"
   ]
  },
  {
   "cell_type": "code",
   "execution_count": null,
   "id": "60ddb625",
   "metadata": {
    "papermill": {
     "duration": 0.009211,
     "end_time": "2022-06-15T00:32:01.537051",
     "exception": false,
     "start_time": "2022-06-15T00:32:01.527840",
     "status": "completed"
    },
    "tags": []
   },
   "outputs": [],
   "source": []
  }
 ],
 "metadata": {
  "kernelspec": {
   "display_name": "Python 3",
   "language": "python",
   "name": "python3"
  },
  "language_info": {
   "codemirror_mode": {
    "name": "ipython",
    "version": 3
   },
   "file_extension": ".py",
   "mimetype": "text/x-python",
   "name": "python",
   "nbconvert_exporter": "python",
   "pygments_lexer": "ipython3",
   "version": "3.7.12"
  },
  "papermill": {
   "default_parameters": {},
   "duration": 15.353729,
   "end_time": "2022-06-15T00:32:02.164900",
   "environment_variables": {},
   "exception": null,
   "input_path": "__notebook__.ipynb",
   "output_path": "__notebook__.ipynb",
   "parameters": {},
   "start_time": "2022-06-15T00:31:46.811171",
   "version": "2.3.4"
  }
 },
 "nbformat": 4,
 "nbformat_minor": 5
}
