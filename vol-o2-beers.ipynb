{
 "cells": [
  {
   "cell_type": "code",
   "execution_count": 1,
   "id": "0c9fee20",
   "metadata": {
    "_cell_guid": "b1076dfc-b9ad-4769-8c92-a6c4dae69d19",
    "_uuid": "8f2839f25d086af736a60e9eeb907d3b93b6e0e5",
    "execution": {
     "iopub.execute_input": "2022-06-14T15:26:53.736658Z",
     "iopub.status.busy": "2022-06-14T15:26:53.736227Z",
     "iopub.status.idle": "2022-06-14T15:26:54.749083Z",
     "shell.execute_reply": "2022-06-14T15:26:54.748024Z"
    },
    "papermill": {
     "duration": 1.024506,
     "end_time": "2022-06-14T15:26:54.753502",
     "exception": false,
     "start_time": "2022-06-14T15:26:53.728996",
     "status": "completed"
    },
    "tags": []
   },
   "outputs": [
    {
     "name": "stdout",
     "output_type": "stream",
     "text": [
      "/kaggle/input/vol-o2-3beers-1668-1671-1672/o2-vol-3beers-1668-1670-1671.csv\n",
      "/kaggle/input/vol-o2-3beers-1668-1671-1672/o2-vol-3beers-1668-1670-1671_full.csv\n"
     ]
    }
   ],
   "source": [
    "# This Python 3 environment comes with many helpful analytics libraries installed\n",
    "# It is defined by the kaggle/python Docker image: https://github.com/kaggle/docker-python\n",
    "# For example, here's several helpful packages to load\n",
    "\n",
    "import numpy as np # linear algebra\n",
    "import pandas as pd # data processing, CSV file I/O (e.g. pd.read_csv)\n",
    "pd.options.mode.chained_assignment = None  # default='warn'\n",
    "import seaborn as sns\n",
    "\n",
    "\n",
    "\n",
    "# Input data files are available in the read-only \"../input/\" directory\n",
    "# For example, running this (by clicking run or pressing Shift+Enter) will list all files under the input directory\n",
    "\n",
    "import os\n",
    "for dirname, _, filenames in os.walk('/kaggle/input'):\n",
    "    for filename in filenames:\n",
    "        print(os.path.join(dirname, filename))\n",
    "\n",
    "# You can write up to 20GB to the current directory (/kaggle/working/) that gets preserved as output when you create a version using \"Save & Run All\" \n",
    "# You can also write temporary files to /kaggle/temp/, but they won't be saved outside of the current session"
   ]
  },
  {
   "cell_type": "markdown",
   "id": "0f36ce8e",
   "metadata": {
    "papermill": {
     "duration": 0.004128,
     "end_time": "2022-06-14T15:26:54.762425",
     "exception": false,
     "start_time": "2022-06-14T15:26:54.758297",
     "status": "completed"
    },
    "tags": []
   },
   "source": [
    "# Exploration of relationship between dissolved oxygen (DO or O2) readings and packaged beer volume using test dataset of 3 different lots of beers from Siboire craft brewery. \n",
    "---------\n",
    "## The beers :\n",
    "\n",
    "- [Notre Folie](https://siboire.ca/fr/boutique/bieres/3968024-notre-folie-100-qc/)\n",
    "- [IPA Test #96](https://siboire.ca/fr/boutique/bieres/4847087-ipa-test-96-citra-spectrum-citra-lupomax-citra/)\n",
    "- [Inspiration](https://siboire.ca/fr/boutique/bieres/213673-inspiration/)\n",
    "\n",
    "## The measurements :\n",
    "1. Weight of packaged beer : \n",
    "    Lab balance with 0.01 g readability\n",
    "2. 3-minutes shaken CO2 and O2 readings of packaged using CBoxQC (Anton Paar; [CboxQC](https://www.anton-paar.com/us-en/products/details/cboxqc/)) and c-DGM (Haffmans; [c-DGM](https://foodandbeverage.pentair.com/en/products/haffmans-portable-optical-co2-o2-tpo-meter-c-dgm))\n",
    "\n",
    "---\n",
    "\n",
    "## Useful data and formulas :\n",
    "- Empty can weight (hard print) = 15.8 g\n",
    "- density p = mass (g) / volume (mL)\n",
    "- Plato to SG conversion with ASBC's online conversion tools : \n",
    "[Extract to Specific Gravity](https://www.asbcnet.org/Methods/Tools/extras/Documents/Extract_to_Specific_Gravity.pdf)\n",
    "- Water density at 20C from Handbook of Chemistry : [H20_20C_g/mL](https://collett.atmos.colostate.edu/classes/AT560/2007/water-density.pdf)\n",
    "\n",
    "--- \n",
    "\n",
    "## Question\n",
    "<code style=\"background:yellow;color:red\">**Is there relationship between dissolved O2 levels and volume of beer in final package?**</code>\n",
    "***"
   ]
  },
  {
   "cell_type": "markdown",
   "id": "c5195fbf",
   "metadata": {
    "papermill": {
     "duration": 0.004048,
     "end_time": "2022-06-14T15:26:54.770805",
     "exception": false,
     "start_time": "2022-06-14T15:26:54.766757",
     "status": "completed"
    },
    "tags": []
   },
   "source": [
    "# Import raw data and cleanup\n",
    "***\n",
    "Import data as df using the Pandas lib\n"
   ]
  },
  {
   "cell_type": "code",
   "execution_count": 2,
   "id": "7008ed17",
   "metadata": {
    "execution": {
     "iopub.execute_input": "2022-06-14T15:26:54.781147Z",
     "iopub.status.busy": "2022-06-14T15:26:54.780445Z",
     "iopub.status.idle": "2022-06-14T15:26:54.811682Z",
     "shell.execute_reply": "2022-06-14T15:26:54.810617Z"
    },
    "papermill": {
     "duration": 0.039021,
     "end_time": "2022-06-14T15:26:54.814046",
     "exception": false,
     "start_time": "2022-06-14T15:26:54.775025",
     "status": "completed"
    },
    "tags": []
   },
   "outputs": [
    {
     "data": {
      "text/html": [
       "<div>\n",
       "<style scoped>\n",
       "    .dataframe tbody tr th:only-of-type {\n",
       "        vertical-align: middle;\n",
       "    }\n",
       "\n",
       "    .dataframe tbody tr th {\n",
       "        vertical-align: top;\n",
       "    }\n",
       "\n",
       "    .dataframe thead th {\n",
       "        text-align: right;\n",
       "    }\n",
       "</style>\n",
       "<table border=\"1\" class=\"dataframe\">\n",
       "  <thead>\n",
       "    <tr style=\"text-align: right;\">\n",
       "      <th></th>\n",
       "      <th>Beer</th>\n",
       "      <th>Lot</th>\n",
       "      <th>Density (Plato)</th>\n",
       "      <th>weight (g)</th>\n",
       "      <th>O2 (ppb)</th>\n",
       "      <th>CO2 (vol/vol)</th>\n",
       "    </tr>\n",
       "  </thead>\n",
       "  <tbody>\n",
       "    <tr>\n",
       "      <th>0</th>\n",
       "      <td>NF</td>\n",
       "      <td>1670</td>\n",
       "      <td>2.48</td>\n",
       "      <td>498.5</td>\n",
       "      <td>347.0</td>\n",
       "      <td>2.62</td>\n",
       "    </tr>\n",
       "    <tr>\n",
       "      <th>1</th>\n",
       "      <td>NF</td>\n",
       "      <td>1670</td>\n",
       "      <td>2.48</td>\n",
       "      <td>495.7</td>\n",
       "      <td>231.0</td>\n",
       "      <td>2.60</td>\n",
       "    </tr>\n",
       "    <tr>\n",
       "      <th>2</th>\n",
       "      <td>NF</td>\n",
       "      <td>1670</td>\n",
       "      <td>2.48</td>\n",
       "      <td>485.9</td>\n",
       "      <td>274.0</td>\n",
       "      <td>2.52</td>\n",
       "    </tr>\n",
       "    <tr>\n",
       "      <th>3</th>\n",
       "      <td>NF</td>\n",
       "      <td>1670</td>\n",
       "      <td>2.48</td>\n",
       "      <td>468.5</td>\n",
       "      <td>409.0</td>\n",
       "      <td>2.52</td>\n",
       "    </tr>\n",
       "    <tr>\n",
       "      <th>4</th>\n",
       "      <td>NF</td>\n",
       "      <td>1670</td>\n",
       "      <td>2.48</td>\n",
       "      <td>NaN</td>\n",
       "      <td>103.0</td>\n",
       "      <td>2.63</td>\n",
       "    </tr>\n",
       "    <tr>\n",
       "      <th>5</th>\n",
       "      <td>NF</td>\n",
       "      <td>1670</td>\n",
       "      <td>2.48</td>\n",
       "      <td>496.7</td>\n",
       "      <td>241.0</td>\n",
       "      <td>2.60</td>\n",
       "    </tr>\n",
       "    <tr>\n",
       "      <th>6</th>\n",
       "      <td>NF</td>\n",
       "      <td>1670</td>\n",
       "      <td>2.48</td>\n",
       "      <td>498.0</td>\n",
       "      <td>62.7</td>\n",
       "      <td>2.57</td>\n",
       "    </tr>\n",
       "    <tr>\n",
       "      <th>7</th>\n",
       "      <td>NF</td>\n",
       "      <td>1670</td>\n",
       "      <td>2.48</td>\n",
       "      <td>496.8</td>\n",
       "      <td>219.0</td>\n",
       "      <td>2.58</td>\n",
       "    </tr>\n",
       "    <tr>\n",
       "      <th>8</th>\n",
       "      <td>IPAT96</td>\n",
       "      <td>1668</td>\n",
       "      <td>3.40</td>\n",
       "      <td>NaN</td>\n",
       "      <td>91.0</td>\n",
       "      <td>2.63</td>\n",
       "    </tr>\n",
       "    <tr>\n",
       "      <th>9</th>\n",
       "      <td>IPAT96</td>\n",
       "      <td>1668</td>\n",
       "      <td>3.40</td>\n",
       "      <td>NaN</td>\n",
       "      <td>99.0</td>\n",
       "      <td>2.63</td>\n",
       "    </tr>\n",
       "  </tbody>\n",
       "</table>\n",
       "</div>"
      ],
      "text/plain": [
       "     Beer   Lot  Density (Plato)  weight (g)  O2 (ppb)  CO2 (vol/vol)\n",
       "0      NF  1670             2.48       498.5     347.0           2.62\n",
       "1      NF  1670             2.48       495.7     231.0           2.60\n",
       "2      NF  1670             2.48       485.9     274.0           2.52\n",
       "3      NF  1670             2.48       468.5     409.0           2.52\n",
       "4      NF  1670             2.48         NaN     103.0           2.63\n",
       "5      NF  1670             2.48       496.7     241.0           2.60\n",
       "6      NF  1670             2.48       498.0      62.7           2.57\n",
       "7      NF  1670             2.48       496.8     219.0           2.58\n",
       "8  IPAT96  1668             3.40         NaN      91.0           2.63\n",
       "9  IPAT96  1668             3.40         NaN      99.0           2.63"
      ]
     },
     "execution_count": 2,
     "metadata": {},
     "output_type": "execute_result"
    }
   ],
   "source": [
    "# Import raw data + check sample pop and NAs\n",
    "rawDf = pd.read_csv(\"../input/vol-o2-3beers-1668-1671-1672/o2-vol-3beers-1668-1670-1671_full.csv\", sep=\";\", decimal=\",\")\n",
    "rawDf.head(10)\n"
   ]
  },
  {
   "cell_type": "code",
   "execution_count": 3,
   "id": "480eab26",
   "metadata": {
    "execution": {
     "iopub.execute_input": "2022-06-14T15:26:54.824868Z",
     "iopub.status.busy": "2022-06-14T15:26:54.824515Z",
     "iopub.status.idle": "2022-06-14T15:26:54.835839Z",
     "shell.execute_reply": "2022-06-14T15:26:54.835004Z"
    },
    "papermill": {
     "duration": 0.019093,
     "end_time": "2022-06-14T15:26:54.837973",
     "exception": false,
     "start_time": "2022-06-14T15:26:54.818880",
     "status": "completed"
    },
    "tags": []
   },
   "outputs": [
    {
     "data": {
      "text/plain": [
       "Beer               34\n",
       "Lot                34\n",
       "Density (Plato)    34\n",
       "weight (g)         28\n",
       "O2 (ppb)           33\n",
       "CO2 (vol/vol)      33\n",
       "dtype: int64"
      ]
     },
     "execution_count": 3,
     "metadata": {},
     "output_type": "execute_result"
    }
   ],
   "source": [
    "# Looking for NAs\n",
    "rawDf.count()\n",
    "# Dropping NAs we have n=28 samples left"
   ]
  },
  {
   "cell_type": "code",
   "execution_count": 4,
   "id": "1dcd9291",
   "metadata": {
    "execution": {
     "iopub.execute_input": "2022-06-14T15:26:54.849349Z",
     "iopub.status.busy": "2022-06-14T15:26:54.848629Z",
     "iopub.status.idle": "2022-06-14T15:26:54.860808Z",
     "shell.execute_reply": "2022-06-14T15:26:54.860094Z"
    },
    "papermill": {
     "duration": 0.020143,
     "end_time": "2022-06-14T15:26:54.863004",
     "exception": false,
     "start_time": "2022-06-14T15:26:54.842861",
     "status": "completed"
    },
    "tags": []
   },
   "outputs": [],
   "source": [
    "# change weight column name + remove NAs\n",
    "rawDf = rawDf.rename(columns={\"weight (g)\": \"full weight (g)\"})\n",
    "df = rawDf.dropna()\n"
   ]
  },
  {
   "cell_type": "code",
   "execution_count": 5,
   "id": "f8ed7677",
   "metadata": {
    "execution": {
     "iopub.execute_input": "2022-06-14T15:26:54.874293Z",
     "iopub.status.busy": "2022-06-14T15:26:54.873760Z",
     "iopub.status.idle": "2022-06-14T15:26:54.881945Z",
     "shell.execute_reply": "2022-06-14T15:26:54.880860Z"
    },
    "papermill": {
     "duration": 0.01631,
     "end_time": "2022-06-14T15:26:54.884149",
     "exception": false,
     "start_time": "2022-06-14T15:26:54.867839",
     "status": "completed"
    },
    "tags": []
   },
   "outputs": [
    {
     "data": {
      "text/plain": [
       "Beer                object\n",
       "Lot                  int64\n",
       "Density (Plato)    float64\n",
       "full weight (g)    float64\n",
       "O2 (ppb)           float64\n",
       "CO2 (vol/vol)      float64\n",
       "dtype: object"
      ]
     },
     "execution_count": 5,
     "metadata": {},
     "output_type": "execute_result"
    }
   ],
   "source": [
    "# Check if dtypes OK\n",
    "df.dtypes\n"
   ]
  },
  {
   "cell_type": "markdown",
   "id": "1f59abde",
   "metadata": {
    "papermill": {
     "duration": 0.004782,
     "end_time": "2022-06-14T15:26:54.893881",
     "exception": false,
     "start_time": "2022-06-14T15:26:54.889099",
     "status": "completed"
    },
    "tags": []
   },
   "source": [
    "# Calculate the volume of beer in package\n",
    "***\n",
    "## Strategy :\n",
    "1. Determine weight of liquid beer in can\n",
    "2. Calculate specific gravity (SG)\n",
    "3. Calculate the volume of beer in can (mL)\n"
   ]
  },
  {
   "cell_type": "code",
   "execution_count": 6,
   "id": "56c828cb",
   "metadata": {
    "execution": {
     "iopub.execute_input": "2022-06-14T15:26:54.905655Z",
     "iopub.status.busy": "2022-06-14T15:26:54.904892Z",
     "iopub.status.idle": "2022-06-14T15:26:54.929196Z",
     "shell.execute_reply": "2022-06-14T15:26:54.928004Z"
    },
    "papermill": {
     "duration": 0.032677,
     "end_time": "2022-06-14T15:26:54.931411",
     "exception": false,
     "start_time": "2022-06-14T15:26:54.898734",
     "status": "completed"
    },
    "tags": []
   },
   "outputs": [
    {
     "data": {
      "text/html": [
       "<div>\n",
       "<style scoped>\n",
       "    .dataframe tbody tr th:only-of-type {\n",
       "        vertical-align: middle;\n",
       "    }\n",
       "\n",
       "    .dataframe tbody tr th {\n",
       "        vertical-align: top;\n",
       "    }\n",
       "\n",
       "    .dataframe thead th {\n",
       "        text-align: right;\n",
       "    }\n",
       "</style>\n",
       "<table border=\"1\" class=\"dataframe\">\n",
       "  <thead>\n",
       "    <tr style=\"text-align: right;\">\n",
       "      <th></th>\n",
       "      <th>Beer</th>\n",
       "      <th>Lot</th>\n",
       "      <th>Density (Plato)</th>\n",
       "      <th>full weight (g)</th>\n",
       "      <th>O2 (ppb)</th>\n",
       "      <th>CO2 (vol/vol)</th>\n",
       "      <th>liquid weight (g)</th>\n",
       "      <th>SG</th>\n",
       "      <th>beer volume (mL)</th>\n",
       "    </tr>\n",
       "  </thead>\n",
       "  <tbody>\n",
       "    <tr>\n",
       "      <th>0</th>\n",
       "      <td>NF</td>\n",
       "      <td>1670</td>\n",
       "      <td>2.48</td>\n",
       "      <td>498.5</td>\n",
       "      <td>347.0</td>\n",
       "      <td>2.62</td>\n",
       "      <td>482.7</td>\n",
       "      <td>1.009672</td>\n",
       "      <td>478.93493</td>\n",
       "    </tr>\n",
       "    <tr>\n",
       "      <th>1</th>\n",
       "      <td>NF</td>\n",
       "      <td>1670</td>\n",
       "      <td>2.48</td>\n",
       "      <td>495.7</td>\n",
       "      <td>231.0</td>\n",
       "      <td>2.60</td>\n",
       "      <td>479.9</td>\n",
       "      <td>1.009672</td>\n",
       "      <td>476.15677</td>\n",
       "    </tr>\n",
       "    <tr>\n",
       "      <th>2</th>\n",
       "      <td>NF</td>\n",
       "      <td>1670</td>\n",
       "      <td>2.48</td>\n",
       "      <td>485.9</td>\n",
       "      <td>274.0</td>\n",
       "      <td>2.52</td>\n",
       "      <td>470.1</td>\n",
       "      <td>1.009672</td>\n",
       "      <td>466.43321</td>\n",
       "    </tr>\n",
       "    <tr>\n",
       "      <th>3</th>\n",
       "      <td>NF</td>\n",
       "      <td>1670</td>\n",
       "      <td>2.48</td>\n",
       "      <td>468.5</td>\n",
       "      <td>409.0</td>\n",
       "      <td>2.52</td>\n",
       "      <td>452.7</td>\n",
       "      <td>1.009672</td>\n",
       "      <td>449.16893</td>\n",
       "    </tr>\n",
       "    <tr>\n",
       "      <th>5</th>\n",
       "      <td>NF</td>\n",
       "      <td>1670</td>\n",
       "      <td>2.48</td>\n",
       "      <td>496.7</td>\n",
       "      <td>241.0</td>\n",
       "      <td>2.60</td>\n",
       "      <td>480.9</td>\n",
       "      <td>1.009672</td>\n",
       "      <td>477.14897</td>\n",
       "    </tr>\n",
       "  </tbody>\n",
       "</table>\n",
       "</div>"
      ],
      "text/plain": [
       "  Beer   Lot  Density (Plato)  full weight (g)  O2 (ppb)  CO2 (vol/vol)  \\\n",
       "0   NF  1670             2.48            498.5     347.0           2.62   \n",
       "1   NF  1670             2.48            495.7     231.0           2.60   \n",
       "2   NF  1670             2.48            485.9     274.0           2.52   \n",
       "3   NF  1670             2.48            468.5     409.0           2.52   \n",
       "5   NF  1670             2.48            496.7     241.0           2.60   \n",
       "\n",
       "   liquid weight (g)        SG  beer volume (mL)  \n",
       "0              482.7  1.009672         478.93493  \n",
       "1              479.9  1.009672         476.15677  \n",
       "2              470.1  1.009672         466.43321  \n",
       "3              452.7  1.009672         449.16893  \n",
       "5              480.9  1.009672         477.14897  "
      ]
     },
     "execution_count": 6,
     "metadata": {},
     "output_type": "execute_result"
    }
   ],
   "source": [
    "# Determine weight of beer liquid only\n",
    "# Regular hard printed can body + lid weight = 15.8 g\n",
    "# NO USER INPUT emptyCan = float(input(\"Enter weight of empty can + lid :\"))\n",
    "emptyCan = 15.8\n",
    "df[\"liquid weight (g)\"] = df[\"full weight (g)\"] - emptyCan\n",
    "\n",
    "# Convert Plato density to specific gravity (SG)\n",
    "df[\"SG\"] = df[\"Density (Plato)\"] / (258.6-((df[\"Density (Plato)\"]/258.2)*227.1))+1\n",
    "\n",
    "# Calculate beer liquid volume in package (mL)\n",
    "watDens20C = 0.998207\n",
    "df[\"beer volume (mL)\"] = df[\"liquid weight (g)\"] / (df[\"SG\"]*watDens20C)\n",
    "df.head()\n"
   ]
  },
  {
   "cell_type": "markdown",
   "id": "7a3fd2a1",
   "metadata": {
    "papermill": {
     "duration": 0.004909,
     "end_time": "2022-06-14T15:26:54.941777",
     "exception": false,
     "start_time": "2022-06-14T15:26:54.936868",
     "status": "completed"
    },
    "tags": []
   },
   "source": [
    "# Exploratory data analysis\n",
    "***\n",
    "## Data visualization + cleaning\n",
    "- Check distributions for beer volume, CO2 and O2\n",
    "- Remove outliers"
   ]
  },
  {
   "cell_type": "code",
   "execution_count": 7,
   "id": "89cfa2a0",
   "metadata": {
    "execution": {
     "iopub.execute_input": "2022-06-14T15:26:54.953786Z",
     "iopub.status.busy": "2022-06-14T15:26:54.953384Z",
     "iopub.status.idle": "2022-06-14T15:26:55.193159Z",
     "shell.execute_reply": "2022-06-14T15:26:55.192284Z"
    },
    "papermill": {
     "duration": 0.248801,
     "end_time": "2022-06-14T15:26:55.195940",
     "exception": false,
     "start_time": "2022-06-14T15:26:54.947139",
     "status": "completed"
    },
    "tags": []
   },
   "outputs": [
    {
     "data": {
      "text/plain": [
       "<AxesSubplot:xlabel='beer volume (mL)', ylabel='Count'>"
      ]
     },
     "execution_count": 7,
     "metadata": {},
     "output_type": "execute_result"
    },
    {
     "data": {
      "image/png": "[encoded data removed]",
      "text/plain": [
       "<Figure size 432x288 with 1 Axes>"
      ]
     },
     "metadata": {
      "needs_background": "light"
     },
     "output_type": "display_data"
    }
   ],
   "source": [
    "# beer volume histogram\n",
    "sns.histplot(data=df, x=\"beer volume (mL)\")"
   ]
  },
  {
   "cell_type": "code",
   "execution_count": 8,
   "id": "d15b5cc2",
   "metadata": {
    "execution": {
     "iopub.execute_input": "2022-06-14T15:26:55.208898Z",
     "iopub.status.busy": "2022-06-14T15:26:55.208251Z",
     "iopub.status.idle": "2022-06-14T15:26:55.451683Z",
     "shell.execute_reply": "2022-06-14T15:26:55.450077Z"
    },
    "papermill": {
     "duration": 0.252286,
     "end_time": "2022-06-14T15:26:55.453869",
     "exception": false,
     "start_time": "2022-06-14T15:26:55.201583",
     "status": "completed"
    },
    "tags": []
   },
   "outputs": [
    {
     "data": {
      "text/plain": [
       "<AxesSubplot:xlabel='O2 (ppb)', ylabel='Count'>"
      ]
     },
     "execution_count": 8,
     "metadata": {},
     "output_type": "execute_result"
    },
    {
     "data": {
      "image/png": "[encoded data removed]",
      "text/plain": [
       "<Figure size 432x288 with 1 Axes>"
      ]
     },
     "metadata": {
      "needs_background": "light"
     },
     "output_type": "display_data"
    }
   ],
   "source": [
    "# O2 histogram\n",
    "sns.histplot(data=df, x=\"O2 (ppb)\")"
   ]
  },
  {
   "cell_type": "code",
   "execution_count": 9,
   "id": "456c8c6d",
   "metadata": {
    "execution": {
     "iopub.execute_input": "2022-06-14T15:26:55.466940Z",
     "iopub.status.busy": "2022-06-14T15:26:55.466532Z",
     "iopub.status.idle": "2022-06-14T15:26:55.733981Z",
     "shell.execute_reply": "2022-06-14T15:26:55.732825Z"
    },
    "papermill": {
     "duration": 0.276359,
     "end_time": "2022-06-14T15:26:55.736193",
     "exception": false,
     "start_time": "2022-06-14T15:26:55.459834",
     "status": "completed"
    },
    "tags": []
   },
   "outputs": [
    {
     "data": {
      "text/plain": [
       "<AxesSubplot:xlabel='CO2 (vol/vol)', ylabel='Count'>"
      ]
     },
     "execution_count": 9,
     "metadata": {},
     "output_type": "execute_result"
    },
    {
     "data": {
      "image/png": "[encoded data removed]",
      "text/plain": [
       "<Figure size 432x288 with 1 Axes>"
      ]
     },
     "metadata": {
      "needs_background": "light"
     },
     "output_type": "display_data"
    }
   ],
   "source": [
    "# CO2 histo\n",
    "sns.histplot(data=df, x=\"CO2 (vol/vol)\", kde=True)"
   ]
  },
  {
   "cell_type": "code",
   "execution_count": 10,
   "id": "fa22fb72",
   "metadata": {
    "execution": {
     "iopub.execute_input": "2022-06-14T15:26:55.752017Z",
     "iopub.status.busy": "2022-06-14T15:26:55.751604Z",
     "iopub.status.idle": "2022-06-14T15:26:55.755897Z",
     "shell.execute_reply": "2022-06-14T15:26:55.755062Z"
    },
    "papermill": {
     "duration": 0.014387,
     "end_time": "2022-06-14T15:26:55.757883",
     "exception": false,
     "start_time": "2022-06-14T15:26:55.743496",
     "status": "completed"
    },
    "tags": []
   },
   "outputs": [],
   "source": [
    "# Remove outliers\n"
   ]
  }
 ],
 "metadata": {
  "kernelspec": {
   "display_name": "Python 3",
   "language": "python",
   "name": "python3"
  },
  "language_info": {
   "codemirror_mode": {
    "name": "ipython",
    "version": 3
   },
   "file_extension": ".py",
   "mimetype": "text/x-python",
   "name": "python",
   "nbconvert_exporter": "python",
   "pygments_lexer": "ipython3",
   "version": "3.7.12"
  },
  "papermill": {
   "default_parameters": {},
   "duration": 11.733788,
   "end_time": "2022-06-14T15:26:56.383959",
   "environment_variables": {},
   "exception": null,
   "input_path": "__notebook__.ipynb",
   "output_path": "__notebook__.ipynb",
   "parameters": {},
   "start_time": "2022-06-14T15:26:44.650171",
   "version": "2.3.4"
  }
 },
 "nbformat": 4,
 "nbformat_minor": 5
}
